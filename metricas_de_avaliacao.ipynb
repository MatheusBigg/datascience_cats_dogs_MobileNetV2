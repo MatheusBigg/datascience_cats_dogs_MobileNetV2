{
  "nbformat": 4,
  "nbformat_minor": 0,
  "metadata": {
    "colab": {
      "provenance": [],
      "gpuType": "V28"
    },
    "kernelspec": {
      "name": "python3",
      "display_name": "Python 3"
    },
    "accelerator": "TPU"
  },
  "cells": [
    {
      "cell_type": "code",
      "metadata": {
        "id": "Nr2ZyMJk9bbn",
        "outputId": "a036cfb8-e023-4c0f-dfb1-c129028b7881",
        "colab": {
          "base_uri": "https://localhost:8080/"
        }
      },
      "source": [
        "!pip install -q tensorflow"
      ],
      "execution_count": 6,
      "outputs": [
        {
          "output_type": "stream",
          "name": "stdout",
          "text": [
            "\u001b[2K   \u001b[90m━━━━━━━━━━━━━━━━━━━━━━━━━━━━━━━━━━━━━━━\u001b[0m \u001b[32m644.9/644.9 MB\u001b[0m \u001b[31m742.5 kB/s\u001b[0m eta \u001b[36m0:00:00\u001b[0m\n",
            "\u001b[2K   \u001b[90m━━━━━━━━━━━━━━━━━━━━━━━━━━━━━━━━━━━━━━━━\u001b[0m \u001b[32m57.5/57.5 kB\u001b[0m \u001b[31m5.4 MB/s\u001b[0m eta \u001b[36m0:00:00\u001b[0m\n",
            "\u001b[2K   \u001b[90m━━━━━━━━━━━━━━━━━━━━━━━━━━━━━━━━━━━━━━━━\u001b[0m \u001b[32m24.5/24.5 MB\u001b[0m \u001b[31m81.4 MB/s\u001b[0m eta \u001b[36m0:00:00\u001b[0m\n",
            "\u001b[2K   \u001b[90m━━━━━━━━━━━━━━━━━━━━━━━━━━━━━━━━━━━━━━━━\u001b[0m \u001b[32m319.9/319.9 kB\u001b[0m \u001b[31m21.7 MB/s\u001b[0m eta \u001b[36m0:00:00\u001b[0m\n",
            "\u001b[2K   \u001b[90m━━━━━━━━━━━━━━━━━━━━━━━━━━━━━━━━━━━━━━━━\u001b[0m \u001b[32m5.5/5.5 MB\u001b[0m \u001b[31m115.2 MB/s\u001b[0m eta \u001b[36m0:00:00\u001b[0m\n",
            "\u001b[2K   \u001b[90m━━━━━━━━━━━━━━━━━━━━━━━━━━━━━━━━━━━━━━━━\u001b[0m \u001b[32m5.1/5.1 MB\u001b[0m \u001b[31m112.8 MB/s\u001b[0m eta \u001b[36m0:00:00\u001b[0m\n",
            "\u001b[2K   \u001b[90m━━━━━━━━━━━━━━━━━━━━━━━━━━━━━━━━━━━━━━━━\u001b[0m \u001b[32m6.6/6.6 MB\u001b[0m \u001b[31m108.8 MB/s\u001b[0m eta \u001b[36m0:00:00\u001b[0m\n",
            "\u001b[2K   \u001b[90m━━━━━━━━━━━━━━━━━━━━━━━━━━━━━━━━━━━━━━━━\u001b[0m \u001b[32m224.5/224.5 kB\u001b[0m \u001b[31m16.8 MB/s\u001b[0m eta \u001b[36m0:00:00\u001b[0m\n",
            "\u001b[2K   \u001b[90m━━━━━━━━━━━━━━━━━━━━━━━━━━━━━━━━━━━━━━━━\u001b[0m \u001b[32m72.5/72.5 kB\u001b[0m \u001b[31m6.0 MB/s\u001b[0m eta \u001b[36m0:00:00\u001b[0m\n",
            "\u001b[?25h"
          ]
        }
      ]
    },
    {
      "cell_type": "code",
      "metadata": {
        "id": "9GOTUsN2vHZr"
      },
      "source": [
        "from tensorflow.keras import datasets, layers, models\n",
        "import matplotlib.pyplot as plt\n",
        "import tensorflow as tf\n",
        "\n",
        "import numpy as np\n",
        "\n",
        "import seaborn as sns\n",
        "\n",
        "import pandas as pd"
      ],
      "execution_count": 7,
      "outputs": []
    },
    {
      "cell_type": "code",
      "metadata": {
        "id": "Wickr6O73HpO",
        "outputId": "17ff0fad-7fde-43fa-dc2c-77ebe2d623d6",
        "colab": {
          "base_uri": "https://localhost:8080/",
          "height": 35
        }
      },
      "source": [
        "tf.__version__"
      ],
      "execution_count": 8,
      "outputs": [
        {
          "output_type": "execute_result",
          "data": {
            "text/plain": [
              "'2.19.0'"
            ],
            "application/vnd.google.colaboratory.intrinsic+json": {
              "type": "string"
            }
          },
          "metadata": {},
          "execution_count": 8
        }
      ]
    },
    {
      "cell_type": "code",
      "metadata": {
        "id": "Lc4AqLg2saU4"
      },
      "source": [
        "%load_ext tensorboard"
      ],
      "execution_count": 9,
      "outputs": []
    },
    {
      "cell_type": "code",
      "metadata": {
        "id": "wHY7qcTV2uxR"
      },
      "source": [
        "logdir='log'"
      ],
      "execution_count": 10,
      "outputs": []
    },
    {
      "cell_type": "code",
      "metadata": {
        "id": "8I41zgjVvF1g",
        "colab": {
          "base_uri": "https://localhost:8080/"
        },
        "outputId": "3df5cbdb-425e-44ef-d151-92eecaa5fc6d"
      },
      "source": [
        "(train_images, train_labels), (test_images, test_labels) = datasets.mnist.load_data()\n",
        "\n",
        "train_images = train_images.reshape((60000, 28, 28, 1))\n",
        "test_images = test_images.reshape((10000, 28, 28, 1))\n",
        "\n",
        "train_images, test_images = train_images / 255.0, test_images / 255.0\n",
        "\n",
        "classes=[0,1,2,3,4,5,6,7,8,9]"
      ],
      "execution_count": 11,
      "outputs": [
        {
          "output_type": "stream",
          "name": "stdout",
          "text": [
            "Downloading data from https://storage.googleapis.com/tensorflow/tf-keras-datasets/mnist.npz\n",
            "\u001b[1m11490434/11490434\u001b[0m \u001b[32m━━━━━━━━━━━━━━━━━━━━\u001b[0m\u001b[37m\u001b[0m \u001b[1m0s\u001b[0m 0us/step\n"
          ]
        }
      ]
    },
    {
      "cell_type": "code",
      "metadata": {
        "id": "_eD7E_m39bis",
        "colab": {
          "base_uri": "https://localhost:8080/"
        },
        "outputId": "7b437377-1e9c-43c6-fd7c-4f98e1d29e3a"
      },
      "source": [
        "model = models.Sequential()\n",
        "model.add(layers.Conv2D(32, (3, 3), activation='relu', input_shape=(28, 28, 1)))\n",
        "model.add(layers.MaxPooling2D((2, 2)))\n",
        "model.add(layers.Conv2D(64, (3, 3), activation='relu'))\n",
        "model.add(layers.MaxPooling2D((2, 2)))\n",
        "model.add(layers.Conv2D(64, (3, 3), activation='relu'))\n",
        "\n",
        "model.add(layers.Flatten())\n",
        "model.add(layers.Dense(64, activation='relu'))\n",
        "model.add(layers.Dense(10, activation='softmax'))\n"
      ],
      "execution_count": 12,
      "outputs": [
        {
          "output_type": "stream",
          "name": "stderr",
          "text": [
            "/usr/local/lib/python3.11/dist-packages/keras/src/layers/convolutional/base_conv.py:107: UserWarning: Do not pass an `input_shape`/`input_dim` argument to a layer. When using Sequential models, prefer using an `Input(shape)` object as the first layer in the model instead.\n",
            "  super().__init__(activity_regularizer=activity_regularizer, **kwargs)\n"
          ]
        }
      ]
    },
    {
      "cell_type": "code",
      "metadata": {
        "id": "e19fqT7B4QII"
      },
      "source": [
        "tensorboard_callback = tf.keras.callbacks.TensorBoard(logdir, histogram_freq=1)"
      ],
      "execution_count": 13,
      "outputs": []
    },
    {
      "cell_type": "code",
      "metadata": {
        "id": "QOIbCQ3T9bml",
        "outputId": "53b9581b-d0a2-49f3-9a97-8be5c2d95b7f",
        "colab": {
          "base_uri": "https://localhost:8080/"
        }
      },
      "source": [
        "model.compile(optimizer='adam',\n",
        "              loss='sparse_categorical_crossentropy',\n",
        "              metrics=['accuracy'])\n",
        "\n",
        "model.fit(x=train_images,\n",
        "            y=train_labels,\n",
        "            epochs=5,\n",
        "            validation_data=(test_images, test_labels))"
      ],
      "execution_count": 14,
      "outputs": [
        {
          "output_type": "stream",
          "name": "stdout",
          "text": [
            "Epoch 1/5\n",
            "\u001b[1m1875/1875\u001b[0m \u001b[32m━━━━━━━━━━━━━━━━━━━━\u001b[0m\u001b[37m\u001b[0m \u001b[1m40s\u001b[0m 20ms/step - accuracy: 0.8957 - loss: 0.3356 - val_accuracy: 0.9864 - val_loss: 0.0402\n",
            "Epoch 2/5\n",
            "\u001b[1m1875/1875\u001b[0m \u001b[32m━━━━━━━━━━━━━━━━━━━━\u001b[0m\u001b[37m\u001b[0m \u001b[1m39s\u001b[0m 21ms/step - accuracy: 0.9857 - loss: 0.0472 - val_accuracy: 0.9886 - val_loss: 0.0367\n",
            "Epoch 3/5\n",
            "\u001b[1m1875/1875\u001b[0m \u001b[32m━━━━━━━━━━━━━━━━━━━━\u001b[0m\u001b[37m\u001b[0m \u001b[1m37s\u001b[0m 20ms/step - accuracy: 0.9892 - loss: 0.0331 - val_accuracy: 0.9879 - val_loss: 0.0405\n",
            "Epoch 4/5\n",
            "\u001b[1m1875/1875\u001b[0m \u001b[32m━━━━━━━━━━━━━━━━━━━━\u001b[0m\u001b[37m\u001b[0m \u001b[1m35s\u001b[0m 19ms/step - accuracy: 0.9917 - loss: 0.0266 - val_accuracy: 0.9906 - val_loss: 0.0298\n",
            "Epoch 5/5\n",
            "\u001b[1m1875/1875\u001b[0m \u001b[32m━━━━━━━━━━━━━━━━━━━━\u001b[0m\u001b[37m\u001b[0m \u001b[1m35s\u001b[0m 19ms/step - accuracy: 0.9943 - loss: 0.0178 - val_accuracy: 0.9895 - val_loss: 0.0358\n"
          ]
        },
        {
          "output_type": "execute_result",
          "data": {
            "text/plain": [
              "<keras.src.callbacks.history.History at 0x7da1a77c5690>"
            ]
          },
          "metadata": {},
          "execution_count": 14
        }
      ]
    },
    {
      "cell_type": "code",
      "metadata": {
        "id": "SHkdG_lehhMU",
        "colab": {
          "base_uri": "https://localhost:8080/"
        },
        "outputId": "51cbc013-1a18-4110-a042-e92ab2ccaca3"
      },
      "source": [
        "y_true=test_labels\n",
        "y_prob = model.predict(test_images)\n",
        "y_pred = np.argmax(y_prob, axis=1)"
      ],
      "execution_count": 16,
      "outputs": [
        {
          "output_type": "stream",
          "name": "stdout",
          "text": [
            "\u001b[1m313/313\u001b[0m \u001b[32m━━━━━━━━━━━━━━━━━━━━\u001b[0m\u001b[37m\u001b[0m \u001b[1m2s\u001b[0m 6ms/step\n"
          ]
        }
      ]
    },
    {
      "cell_type": "code",
      "metadata": {
        "id": "iu2h0QRmDJjW"
      },
      "source": [
        "classes=[0,1,2,3,4,5,6,7,8,9]"
      ],
      "execution_count": 17,
      "outputs": []
    },
    {
      "cell_type": "code",
      "metadata": {
        "id": "REXBQV3UX15X",
        "outputId": "d406c6e6-8c3b-43e6-83b8-68af0d0bd5f1",
        "colab": {
          "base_uri": "https://localhost:8080/",
          "height": 826
        }
      },
      "source": [
        "con_mat = tf.math.confusion_matrix(labels=y_true, predictions=y_pred).numpy()\n",
        "con_mat_norm = np.around(con_mat.astype('float') / con_mat.sum(axis=1)[:, np.newaxis], decimals=2)\n",
        "\n",
        "con_mat_df = pd.DataFrame(con_mat_norm,\n",
        "                     index = classes,\n",
        "                     columns = classes)\n",
        "\n",
        "figure = plt.figure(figsize=(8, 8))\n",
        "sns.heatmap(con_mat_df, annot=True,cmap=plt.cm.Blues)\n",
        "plt.tight_layout()\n",
        "plt.ylabel('True label')\n",
        "plt.xlabel('Predicted label')\n",
        "plt.show()"
      ],
      "execution_count": 18,
      "outputs": [
        {
          "output_type": "display_data",
          "data": {
            "text/plain": [
              "<Figure size 800x800 with 2 Axes>"
            ],
            "image/png": "[encoded data removed]"
          },
          "metadata": {}
        }
      ]
    },
    {
      "cell_type": "code",
      "source": [
        "# Metricas\n",
        "\n",
        "num_classes = con_mat.shape[0]\n",
        "total = np.sum(con_mat)\n",
        "\n",
        "accuracias = []\n",
        "precisoes = []\n",
        "especificidades = []\n",
        "recalls = []\n",
        "f1s = []\n",
        "\n",
        "for i in range(num_classes):\n",
        "    TP = con_mat[i, i]\n",
        "    FP = np.sum(con_mat[:, i]) - TP\n",
        "    FN = np.sum(con_mat[i, :]) - TP\n",
        "    TN = total - (TP + FP + FN)\n",
        "\n",
        "    # Acuracia\n",
        "    acc_i = (TP + TN) / total\n",
        "    accuracias.append(acc_i)\n",
        "\n",
        "    # Precisao\n",
        "    if TP + FP == 0:\n",
        "        prec_i = 0.0\n",
        "    else:\n",
        "        prec_i = TP / (TP + FP)\n",
        "    precisoes.append(prec_i)\n",
        "\n",
        "    # Especificidade\n",
        "    if (TN + FP) == 0:\n",
        "        spec_i = 0.0\n",
        "    else:\n",
        "        spec_i = TN / (TN + FP)\n",
        "    especificidades.append(spec_i)\n",
        "\n",
        "    # Sensibilidade (Recall)\n",
        "    if TP + FN == 0:\n",
        "        rec_i = 0.0\n",
        "    else:\n",
        "        rec_i = TP / (TP + FN)\n",
        "    recalls.append(rec_i)\n",
        "\n",
        "    # F1-Score\n",
        "    if prec_i + rec_i == 0:\n",
        "        f1_i = 0.0\n",
        "    else:\n",
        "        f1_i = 2 * prec_i * rec_i / (prec_i + rec_i)\n",
        "    f1s.append(f1_i)\n",
        "\n",
        "    print(f\"Classe {i}:\")\n",
        "    print(f\"TP = {TP}\")\n",
        "    print(f\"FP = {FP}\")\n",
        "    print(f\"FN = {FN}\")\n",
        "    print(f\"TN = {TN}\")\n",
        "    print(f\"Acuracia   = {acc_i:.4f}\")\n",
        "    print(f\"Precisao   = {prec_i:.4f}\")\n",
        "    print(f\"Especificidade   = {spec_i:.4f}\")\n",
        "    print(f\"Sensibilidade = {rec_i:.4f}\")\n",
        "    print(f\"F1-score   = {f1_i:.4f}\\n\")\n",
        "\n",
        "\n",
        "# Acuracia geral\n",
        "accuracia_total = np.trace(con_mat) / total\n",
        "print(f\"Acurácia total: {accuracia_total:.4f}\")\n",
        "\n",
        "# Macro Medias\n",
        "precisao_macro = np.mean(precisoes)\n",
        "especificidade_macro = np.mean(especificidades)\n",
        "recall_macro = np.mean(recalls)\n",
        "f1_macro = np.mean(f1s)\n",
        "\n",
        "\n",
        "print(\"\\nMedia Macro:\")\n",
        "print(f\"Precisao media: {precisao_macro:.4f}\")\n",
        "print(f\"Especificidade média (macro): {especificidade_macro:.4f}\")\n",
        "print(f\"Sensibilidade media: {recall_macro:.4f}\")\n",
        "print(f\"F1-score medio: {f1_macro:.4f}\")\n",
        "\n",
        "# OBS:\n",
        "# A Curva ROC é feita para decisões binárias, por isso não faz sentido para este exercicio de Multiclasses"
      ],
      "metadata": {
        "colab": {
          "base_uri": "https://localhost:8080/"
        },
        "id": "a2lnw12xIzIu",
        "outputId": "f1162bbc-e69d-4144-a6ed-8dcb1ac7a87e"
      },
      "execution_count": 25,
      "outputs": [
        {
          "output_type": "stream",
          "name": "stdout",
          "text": [
            "Classe 0:\n",
            "TP = 976\n",
            "FP = 8\n",
            "FN = 4\n",
            "TN = 9012\n",
            "Acuracia   = 0.9988\n",
            "Precisao   = 0.9919\n",
            "Especificidade   = 0.9991\n",
            "Sensibilidade = 0.9959\n",
            "F1-score   = 0.9939\n",
            "\n",
            "Classe 1:\n",
            "TP = 1132\n",
            "FP = 10\n",
            "FN = 3\n",
            "TN = 8855\n",
            "Acuracia   = 0.9987\n",
            "Precisao   = 0.9912\n",
            "Especificidade   = 0.9989\n",
            "Sensibilidade = 0.9974\n",
            "F1-score   = 0.9943\n",
            "\n",
            "Classe 2:\n",
            "TP = 1022\n",
            "FP = 8\n",
            "FN = 10\n",
            "TN = 8960\n",
            "Acuracia   = 0.9982\n",
            "Precisao   = 0.9922\n",
            "Especificidade   = 0.9991\n",
            "Sensibilidade = 0.9903\n",
            "F1-score   = 0.9913\n",
            "\n",
            "Classe 3:\n",
            "TP = 988\n",
            "FP = 2\n",
            "FN = 22\n",
            "TN = 8988\n",
            "Acuracia   = 0.9976\n",
            "Precisao   = 0.9980\n",
            "Especificidade   = 0.9998\n",
            "Sensibilidade = 0.9782\n",
            "F1-score   = 0.9880\n",
            "\n",
            "Classe 4:\n",
            "TP = 978\n",
            "FP = 11\n",
            "FN = 4\n",
            "TN = 9007\n",
            "Acuracia   = 0.9985\n",
            "Precisao   = 0.9889\n",
            "Especificidade   = 0.9988\n",
            "Sensibilidade = 0.9959\n",
            "F1-score   = 0.9924\n",
            "\n",
            "Classe 5:\n",
            "TP = 881\n",
            "FP = 22\n",
            "FN = 11\n",
            "TN = 9086\n",
            "Acuracia   = 0.9967\n",
            "Precisao   = 0.9756\n",
            "Especificidade   = 0.9976\n",
            "Sensibilidade = 0.9877\n",
            "F1-score   = 0.9816\n",
            "\n",
            "Classe 6:\n",
            "TP = 953\n",
            "FP = 10\n",
            "FN = 5\n",
            "TN = 9032\n",
            "Acuracia   = 0.9985\n",
            "Precisao   = 0.9896\n",
            "Especificidade   = 0.9989\n",
            "Sensibilidade = 0.9948\n",
            "F1-score   = 0.9922\n",
            "\n",
            "Classe 7:\n",
            "TP = 1017\n",
            "FP = 24\n",
            "FN = 11\n",
            "TN = 8948\n",
            "Acuracia   = 0.9965\n",
            "Precisao   = 0.9769\n",
            "Especificidade   = 0.9973\n",
            "Sensibilidade = 0.9893\n",
            "F1-score   = 0.9831\n",
            "\n",
            "Classe 8:\n",
            "TP = 958\n",
            "FP = 4\n",
            "FN = 16\n",
            "TN = 9022\n",
            "Acuracia   = 0.9980\n",
            "Precisao   = 0.9958\n",
            "Especificidade   = 0.9996\n",
            "Sensibilidade = 0.9836\n",
            "F1-score   = 0.9897\n",
            "\n",
            "Classe 9:\n",
            "TP = 990\n",
            "FP = 6\n",
            "FN = 19\n",
            "TN = 8985\n",
            "Acuracia   = 0.9975\n",
            "Precisao   = 0.9940\n",
            "Especificidade   = 0.9993\n",
            "Sensibilidade = 0.9812\n",
            "F1-score   = 0.9875\n",
            "\n",
            "Acurácia total: 0.9895\n",
            "\n",
            "Media Macro:\n",
            "Precisao media: 0.9894\n",
            "Especificidade média (macro): 0.9988\n",
            "Sensibilidade media: 0.9894\n",
            "F1-score medio: 0.9894\n"
          ]
        }
      ]
    },
    {
      "cell_type": "code",
      "metadata": {
        "id": "924thjUKapvL"
      },
      "source": [
        "model1 = models.Sequential()\n",
        "model1.add(layers.Conv2D(32, (3, 3), activation='relu', input_shape=(28, 28, 1)))\n",
        "model1.add(layers.MaxPooling2D((2, 2)))\n",
        "model1.add(layers.Conv2D(64, (3, 3), activation='relu'))\n",
        "model1.add(layers.MaxPooling2D((2, 2)))\n",
        "model1.add(layers.Conv2D(64, (3, 3), activation='relu'))\n",
        "\n",
        "model1.add(layers.Flatten())\n",
        "model1.add(layers.Dense(64, activation='relu'))\n",
        "model1.add(layers.Dense(10, activation='softmax'))\n",
        "\n",
        "model1.compile(\n",
        "    optimizer='adam',\n",
        "    loss='sparse_categorical_crossentropy',\n",
        "    metrics=['accuracy']\n",
        ")"
      ],
      "execution_count": null,
      "outputs": []
    },
    {
      "cell_type": "code",
      "metadata": {
        "id": "keKspwhadELy"
      },
      "source": [
        "file_writer = tf.summary.create_file_writer(logdir + '/cm')\n",
        "\n",
        "def log_confusion_matrix(epoch, logs):\n",
        "  # Use the model to predict the values from the validation dataset.\n",
        "  test_pred = model1.predict_classes(test_images)\n",
        "\n",
        "  con_mat = tf.math.confusion_matrix(labels=test_labels, predictions=test_pred).numpy()\n",
        "  con_mat_norm = np.around(con_mat.astype('float') / con_mat.sum(axis=1)[:, np.newaxis], decimals=2)\n",
        "\n",
        "  con_mat_df = pd.DataFrame(con_mat_norm,\n",
        "                     index = classes,\n",
        "                     columns = classes)\n",
        "\n",
        "  figure = plt.figure(figsize=(8, 8))\n",
        "  sns.heatmap(con_mat_df, annot=True,cmap=plt.cm.Blues)\n",
        "  plt.tight_layout()\n",
        "  plt.ylabel('True label')\n",
        "  plt.xlabel('Predicted label')\n",
        "\n",
        "  buf = io.BytesIO()\n",
        "  plt.savefig(buf, format='png')\n",
        "\n",
        "  plt.close(figure)\n",
        "  buf.seek(0)\n",
        "  image = tf.image.decode_png(buf.getvalue(), channels=4)\n",
        "\n",
        "  image = tf.expand_dims(image, 0)\n",
        "\n",
        "  # Log the confusion matrix as an image summary.\n",
        "  with file_writer.as_default():\n",
        "    tf.summary.image(\"Confusion Matrix\", image, step=epoch)\n",
        "\n",
        "\n",
        "logdir='logs/images'\n",
        "\n",
        "tensorboard_callback = tf.keras.callbacks.TensorBoard(log_dir=logdir)\n",
        "\n",
        "cm_callback = keras.callbacks.LambdaCallback(on_epoch_end=log_confusion_matrix)"
      ],
      "execution_count": null,
      "outputs": []
    },
    {
      "cell_type": "code",
      "metadata": {
        "id": "RhKBRDr2eA-8"
      },
      "source": [
        "model1.fit(\n",
        "    train_images,\n",
        "    train_labels,\n",
        "    epochs=5,\n",
        "    verbose=0,\n",
        "    callbacks=[tensorboard_callback, cm_callback],\n",
        "    validation_data=(test_images, test_labels),\n",
        ")"
      ],
      "execution_count": null,
      "outputs": []
    },
    {
      "cell_type": "code",
      "metadata": {
        "id": "XPMYfawlfxar"
      },
      "source": [
        "# Start TensorBoard.\n",
        "%tensorboard --logdir logs/images"
      ],
      "execution_count": null,
      "outputs": []
    }
  ]
}